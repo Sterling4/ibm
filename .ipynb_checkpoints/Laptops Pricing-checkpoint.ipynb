{
 "cells": [
  {
   "cell_type": "code",
   "execution_count": 32,
   "metadata": {},
   "outputs": [],
   "source": [
    "import numpy as np\n",
    "import pandas as pd"
   ]
  },
  {
   "cell_type": "code",
   "execution_count": 33,
   "metadata": {},
   "outputs": [],
   "source": [
    "from pyodide.http import pyfetch\n",
    "\n",
    "async def download(url, filename):\n",
    "    response = await pyfetch(url)\n",
    "    if response.status == 200:\n",
    "        with open(filename, \"wb\") as f:\n",
    "            f.write(await response.bytes())"
   ]
  },
  {
   "cell_type": "code",
   "execution_count": 34,
   "metadata": {},
   "outputs": [],
   "source": [
    "file_path = \"https://cf-courses-data.s3.us.cloud-object-storage.appdomain.cloud/IBMDeveloperSkillsNetwork-DA0101EN-Coursera/laptop_pricing_dataset_base.csv\""
   ]
  },
  {
   "cell_type": "code",
   "execution_count": 35,
   "metadata": {},
   "outputs": [
    {
     "ename": "NameError",
     "evalue": "name '_jsfetch' is not defined",
     "output_type": "error",
     "traceback": [
      "\u001b[1;31m---------------------------------------------------------------------------\u001b[0m",
      "\u001b[1;31mNameError\u001b[0m                                 Traceback (most recent call last)",
      "\u001b[1;32mc:\\Users\\sterl\\Documents\\GitHub\\ibm\\Laptops Pricing.ipynb Cell 4\u001b[0m line \u001b[0;36m1\n\u001b[1;32m----> <a href='vscode-notebook-cell:/c%3A/Users/sterl/Documents/GitHub/ibm/Laptops%20Pricing.ipynb#W2sZmlsZQ%3D%3D?line=0'>1</a>\u001b[0m \u001b[39mawait\u001b[39;00m download(file_path, \u001b[39m\"\u001b[39m\u001b[39mlaptop.csv\u001b[39m\u001b[39m\"\u001b[39m)\n\u001b[0;32m      <a href='vscode-notebook-cell:/c%3A/Users/sterl/Documents/GitHub/ibm/Laptops%20Pricing.ipynb#W2sZmlsZQ%3D%3D?line=1'>2</a>\u001b[0m file_name\u001b[39m=\u001b[39m\u001b[39m\"\u001b[39m\u001b[39mlaptops.csv\u001b[39m\u001b[39m\"\u001b[39m\n",
      "\u001b[1;32mc:\\Users\\sterl\\Documents\\GitHub\\ibm\\Laptops Pricing.ipynb Cell 4\u001b[0m line \u001b[0;36m4\n\u001b[0;32m      <a href='vscode-notebook-cell:/c%3A/Users/sterl/Documents/GitHub/ibm/Laptops%20Pricing.ipynb#W2sZmlsZQ%3D%3D?line=2'>3</a>\u001b[0m \u001b[39masync\u001b[39;00m \u001b[39mdef\u001b[39;00m \u001b[39mdownload\u001b[39m(url, filename):\n\u001b[1;32m----> <a href='vscode-notebook-cell:/c%3A/Users/sterl/Documents/GitHub/ibm/Laptops%20Pricing.ipynb#W2sZmlsZQ%3D%3D?line=3'>4</a>\u001b[0m     response \u001b[39m=\u001b[39m \u001b[39mawait\u001b[39;00m pyfetch(url)\n\u001b[0;32m      <a href='vscode-notebook-cell:/c%3A/Users/sterl/Documents/GitHub/ibm/Laptops%20Pricing.ipynb#W2sZmlsZQ%3D%3D?line=4'>5</a>\u001b[0m     \u001b[39mif\u001b[39;00m response\u001b[39m.\u001b[39mstatus \u001b[39m==\u001b[39m \u001b[39m200\u001b[39m:\n\u001b[0;32m      <a href='vscode-notebook-cell:/c%3A/Users/sterl/Documents/GitHub/ibm/Laptops%20Pricing.ipynb#W2sZmlsZQ%3D%3D?line=5'>6</a>\u001b[0m         \u001b[39mwith\u001b[39;00m \u001b[39mopen\u001b[39m(filename, \u001b[39m\"\u001b[39m\u001b[39mwb\u001b[39m\u001b[39m\"\u001b[39m) \u001b[39mas\u001b[39;00m f:\n",
      "File \u001b[1;32m~\\AppData\\Local\\Packages\\PythonSoftwareFoundation.Python.3.11_qbz5n2kfra8p0\\LocalCache\\local-packages\\Python311\\site-packages\\pyodide\\http.py:305\u001b[0m, in \u001b[0;36mpyfetch\u001b[1;34m(url, **kwargs)\u001b[0m\n\u001b[0;32m    274\u001b[0m \u001b[39m\u001b[39m\u001b[39mr\u001b[39m\u001b[39m\"\"\"Fetch the url and return the response.\u001b[39;00m\n\u001b[0;32m    275\u001b[0m \n\u001b[0;32m    276\u001b[0m \u001b[39mThis functions provides a similar API to :js:func:`fetch` however it is\u001b[39;00m\n\u001b[1;32m   (...)\u001b[0m\n\u001b[0;32m    301\u001b[0m \u001b[39m'version': '0.23.4', 'python': '3.11.2'}, ... # long output truncated\u001b[39;00m\n\u001b[0;32m    302\u001b[0m \u001b[39m\"\"\"\u001b[39;00m\n\u001b[0;32m    303\u001b[0m \u001b[39mtry\u001b[39;00m:\n\u001b[0;32m    304\u001b[0m     \u001b[39mreturn\u001b[39;00m FetchResponse(\n\u001b[1;32m--> 305\u001b[0m         url, \u001b[39mawait\u001b[39;00m _jsfetch(url, to_js(kwargs, dict_converter\u001b[39m=\u001b[39mObject\u001b[39m.\u001b[39mfromEntries))\n\u001b[0;32m    306\u001b[0m     )\n\u001b[0;32m    307\u001b[0m \u001b[39mexcept\u001b[39;00m JsException \u001b[39mas\u001b[39;00m e:\n\u001b[0;32m    308\u001b[0m     \u001b[39mraise\u001b[39;00m \u001b[39mOSError\u001b[39;00m(e\u001b[39m.\u001b[39mmessage) \u001b[39mfrom\u001b[39;00m \u001b[39mNone\u001b[39;00m\n",
      "\u001b[1;31mNameError\u001b[0m: name '_jsfetch' is not defined"
     ]
    }
   ],
   "source": [
    "await download(file_path, \"laptop.csv\")\n",
    "file_name=\"laptops.csv\""
   ]
  },
  {
   "cell_type": "code",
   "execution_count": 37,
   "metadata": {},
   "outputs": [],
   "source": [
    "df = pd.read_csv(file_path, header=None)"
   ]
  },
  {
   "cell_type": "code",
   "execution_count": 38,
   "metadata": {},
   "outputs": [
    {
     "data": {
      "text/plain": [
       "'https://cf-courses-data.s3.us.cloud-object-storage.appdomain.cloud/IBMDeveloperSkillsNetwork-DA0101EN-Coursera/laptop_pricing_dataset_base.csv'"
      ]
     },
     "execution_count": 38,
     "metadata": {},
     "output_type": "execute_result"
    }
   ],
   "source": [
    "file_path"
   ]
  }
 ],
 "metadata": {
  "kernelspec": {
   "display_name": "Python 3",
   "language": "python",
   "name": "python3"
  },
  "language_info": {
   "name": "python",
   "version": "3.11.6"
  }
 },
 "nbformat": 4,
 "nbformat_minor": 2
}
