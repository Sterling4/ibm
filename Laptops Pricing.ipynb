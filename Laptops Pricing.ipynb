{
 "cells": [
  {
   "cell_type": "code",
   "execution_count": 29,
   "metadata": {},
   "outputs": [],
   "source": [
    "import numpy as np\n",
    "import pandas as pd"
   ]
  },
  {
   "cell_type": "code",
   "execution_count": 37,
   "metadata": {},
   "outputs": [
    {
     "name": "stdout",
     "output_type": "stream",
     "text": [
      "     0   1          2   3   4   5       6    7   8    9     10    11\n",
      "0  Acer   4  IPS Panel   2   1   5   35.56  1.6   8  256   1.6   978\n",
      "1  Dell   3    Full HD   1   1   3  39.624  2.0   4  256   2.2   634\n",
      "2  Dell   3    Full HD   1   1   7  39.624  2.7   8  256   2.2   946\n",
      "3  Dell   4  IPS Panel   2   1   5  33.782  1.6   8  128  1.22  1244\n",
      "4    HP   4    Full HD   2   1   7  39.624  1.8   8  256  1.91   837\n",
      "5  Dell   3    Full HD   1   1   5  39.624  1.6   8  256   2.2  1016\n"
     ]
    }
   ],
   "source": [
    "#We read the datafile and print the 6 first columns\n",
    "\n",
    "df = pd.read_csv(\"laptops.csv\", header=None)\n",
    "print(df.head(6))"
   ]
  },
  {
   "cell_type": "code",
   "execution_count": 40,
   "metadata": {},
   "outputs": [
    {
     "name": "stdout",
     "output_type": "stream",
     "text": [
      "  Manufacturer  Category     Screen  GPU  OS  CPU_core Screen_Size_inch  \\\n",
      "0         Acer         4  IPS Panel    2   1         5            35.56   \n",
      "1         Dell         3    Full HD    1   1         3           39.624   \n",
      "2         Dell         3    Full HD    1   1         7           39.624   \n",
      "3         Dell         4  IPS Panel    2   1         5           33.782   \n",
      "4           HP         4    Full HD    2   1         7           39.624   \n",
      "5         Dell         3    Full HD    1   1         5           39.624   \n",
      "\n",
      "   CPU_frequency  RAM_GB  Storage_GB_SSD Weight_kg  Price  \n",
      "0            1.6       8             256       1.6    978  \n",
      "1            2.0       4             256       2.2    634  \n",
      "2            2.7       8             256       2.2    946  \n",
      "3            1.6       8             128      1.22   1244  \n",
      "4            1.8       8             256      1.91    837  \n",
      "5            1.6       8             256       2.2   1016  \n"
     ]
    }
   ],
   "source": [
    "#The datafile doesnt have headders, so we add them.\n",
    "headers = [\"Manufacturer\", \"Category\", \"Screen\", \"GPU\", \"OS\", \"CPU_core\", \"Screen_Size_inch\", \"CPU_frequency\", \"RAM_GB\", \"Storage_GB_SSD\", \"Weight_kg\", \"Price\"]\n",
    "df.columns = headers\n",
    "print(df.head(6))"
   ]
  },
  {
   "cell_type": "code",
   "execution_count": 43,
   "metadata": {},
   "outputs": [],
   "source": [
    "df.replace('?',np.nan, inplace = True)"
   ]
  },
  {
   "cell_type": "code",
   "execution_count": 45,
   "metadata": {},
   "outputs": [
    {
     "name": "stdout",
     "output_type": "stream",
     "text": [
      "Manufacturer         object\n",
      "Category              int64\n",
      "Screen               object\n",
      "GPU                   int64\n",
      "OS                    int64\n",
      "CPU_core              int64\n",
      "Screen_Size_inch     object\n",
      "CPU_frequency       float64\n",
      "RAM_GB                int64\n",
      "Storage_GB_SSD        int64\n",
      "Weight_kg            object\n",
      "Price                 int64\n",
      "dtype: object\n"
     ]
    }
   ],
   "source": [
    "print(df.dtypes)"
   ]
  },
  {
   "cell_type": "code",
   "execution_count": 46,
   "metadata": {},
   "outputs": [
    {
     "name": "stdout",
     "output_type": "stream",
     "text": [
      "       Manufacturer    Category   Screen         GPU          OS    CPU_core  \\\n",
      "count           238  238.000000      238  238.000000  238.000000  238.000000   \n",
      "unique           11         NaN        2         NaN         NaN         NaN   \n",
      "top            Dell         NaN  Full HD         NaN         NaN         NaN   \n",
      "freq             71         NaN      161         NaN         NaN         NaN   \n",
      "mean            NaN    3.205882      NaN    2.151261    1.058824    5.630252   \n",
      "std             NaN    0.776533      NaN    0.638282    0.235790    1.241787   \n",
      "min             NaN    1.000000      NaN    1.000000    1.000000    3.000000   \n",
      "25%             NaN    3.000000      NaN    2.000000    1.000000    5.000000   \n",
      "50%             NaN    3.000000      NaN    2.000000    1.000000    5.000000   \n",
      "75%             NaN    4.000000      NaN    3.000000    1.000000    7.000000   \n",
      "max             NaN    5.000000      NaN    3.000000    2.000000    7.000000   \n",
      "\n",
      "       Screen_Size_inch  CPU_frequency      RAM_GB  Storage_GB_SSD Weight_kg  \\\n",
      "count               234     238.000000  238.000000      238.000000       233   \n",
      "unique                9            NaN         NaN             NaN        77   \n",
      "top              39.624            NaN         NaN             NaN       2.2   \n",
      "freq                 89            NaN         NaN             NaN        21   \n",
      "mean                NaN       2.360084    7.882353      245.781513       NaN   \n",
      "std                 NaN       0.411393    2.482603       34.765316       NaN   \n",
      "min                 NaN       1.200000    4.000000      128.000000       NaN   \n",
      "25%                 NaN       2.000000    8.000000      256.000000       NaN   \n",
      "50%                 NaN       2.500000    8.000000      256.000000       NaN   \n",
      "75%                 NaN       2.700000    8.000000      256.000000       NaN   \n",
      "max                 NaN       2.900000   16.000000      256.000000       NaN   \n",
      "\n",
      "              Price  \n",
      "count    238.000000  \n",
      "unique          NaN  \n",
      "top             NaN  \n",
      "freq            NaN  \n",
      "mean    1462.344538  \n",
      "std      574.607699  \n",
      "min      527.000000  \n",
      "25%     1066.500000  \n",
      "50%     1333.000000  \n",
      "75%     1777.000000  \n",
      "max     3810.000000  \n"
     ]
    }
   ],
   "source": [
    "print(df.describe(include='all'))"
   ]
  },
  {
   "cell_type": "code",
   "execution_count": 47,
   "metadata": {},
   "outputs": [
    {
     "name": "stdout",
     "output_type": "stream",
     "text": [
      "<class 'pandas.core.frame.DataFrame'>\n",
      "RangeIndex: 238 entries, 0 to 237\n",
      "Data columns (total 12 columns):\n",
      " #   Column            Non-Null Count  Dtype  \n",
      "---  ------            --------------  -----  \n",
      " 0   Manufacturer      238 non-null    object \n",
      " 1   Category          238 non-null    int64  \n",
      " 2   Screen            238 non-null    object \n",
      " 3   GPU               238 non-null    int64  \n",
      " 4   OS                238 non-null    int64  \n",
      " 5   CPU_core          238 non-null    int64  \n",
      " 6   Screen_Size_inch  234 non-null    object \n",
      " 7   CPU_frequency     238 non-null    float64\n",
      " 8   RAM_GB            238 non-null    int64  \n",
      " 9   Storage_GB_SSD    238 non-null    int64  \n",
      " 10  Weight_kg         233 non-null    object \n",
      " 11  Price             238 non-null    int64  \n",
      "dtypes: float64(1), int64(7), object(4)\n",
      "memory usage: 22.4+ KB\n",
      "None\n"
     ]
    }
   ],
   "source": [
    "print(df.info())"
   ]
  },
  {
   "cell_type": "code",
   "execution_count": null,
   "metadata": {},
   "outputs": [],
   "source": []
  }
 ],
 "metadata": {
  "kernelspec": {
   "display_name": "Python 3",
   "language": "python",
   "name": "python3"
  },
  "language_info": {
   "name": "python",
   "version": "3.11.6"
  }
 },
 "nbformat": 4,
 "nbformat_minor": 2
}
